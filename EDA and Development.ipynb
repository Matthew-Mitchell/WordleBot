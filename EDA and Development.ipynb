{
 "cells": [
  {
   "cell_type": "code",
   "execution_count": null,
   "metadata": {},
   "outputs": [],
   "source": [
    "import nltk\n",
    "from collections import Counter\n",
    "from functools import reduce\n",
    "import seaborn as sns\n",
    "import matplotlib.pyplot as plt\n",
    "%matplotlib inline\n",
    "import pandas as pd\n",
    "import numpy as np"
   ]
  },
  {
   "cell_type": "code",
   "execution_count": 2,
   "metadata": {},
   "outputs": [
    {
     "data": {
      "text/plain": [
       "'/Users/matthewmitchell/Documents/Projects/WordleBot'"
      ]
     },
     "execution_count": 2,
     "metadata": {},
     "output_type": "execute_result"
    }
   ],
   "source": [
    "pwd"
   ]
  },
  {
   "cell_type": "code",
   "execution_count": null,
   "metadata": {},
   "outputs": [],
   "source": [
    "# nltk.download ('words')"
   ]
  },
  {
   "cell_type": "code",
   "execution_count": 4,
   "metadata": {},
   "outputs": [],
   "source": [
    "word_list = nltk.corpus.words.words ()"
   ]
  },
  {
   "cell_type": "code",
   "execution_count": 5,
   "metadata": {},
   "outputs": [],
   "source": [
    "five_letter_words = [w for w in word_list if len(w)==5]"
   ]
  },
  {
   "cell_type": "code",
   "execution_count": 6,
   "metadata": {},
   "outputs": [],
   "source": [
    "def letterfy(word_list) :\n",
    "    return [element.lower() for w in word_list for element in list(set(w))]"
   ]
  },
  {
   "cell_type": "markdown",
   "metadata": {},
   "source": [
    "## All Words "
   ]
  },
  {
   "cell_type": "code",
   "execution_count": 7,
   "metadata": {},
   "outputs": [
    {
     "name": "stdout",
     "output_type": "stream",
     "text": [
      "10422\n",
      "8689\n"
     ]
    },
    {
     "data": {
      "text/html": [
       "<div>\n",
       "<style scoped>\n",
       "    .dataframe tbody tr th:only-of-type {\n",
       "        vertical-align: middle;\n",
       "    }\n",
       "\n",
       "    .dataframe tbody tr th {\n",
       "        vertical-align: top;\n",
       "    }\n",
       "\n",
       "    .dataframe thead th {\n",
       "        text-align: right;\n",
       "    }\n",
       "</style>\n",
       "<table border=\"1\" class=\"dataframe\">\n",
       "  <thead>\n",
       "    <tr style=\"text-align: right;\">\n",
       "      <th></th>\n",
       "      <th>word</th>\n",
       "      <th>Letter1</th>\n",
       "      <th>Letter2</th>\n",
       "      <th>Letter3</th>\n",
       "      <th>Letter4</th>\n",
       "      <th>Letter5</th>\n",
       "    </tr>\n",
       "  </thead>\n",
       "  <tbody>\n",
       "    <tr>\n",
       "      <th>0</th>\n",
       "      <td>aalii</td>\n",
       "      <td>a</td>\n",
       "      <td>a</td>\n",
       "      <td>l</td>\n",
       "      <td>i</td>\n",
       "      <td>i</td>\n",
       "    </tr>\n",
       "    <tr>\n",
       "      <th>2</th>\n",
       "      <td>abaca</td>\n",
       "      <td>a</td>\n",
       "      <td>b</td>\n",
       "      <td>a</td>\n",
       "      <td>c</td>\n",
       "      <td>a</td>\n",
       "    </tr>\n",
       "    <tr>\n",
       "      <th>3</th>\n",
       "      <td>aback</td>\n",
       "      <td>a</td>\n",
       "      <td>b</td>\n",
       "      <td>a</td>\n",
       "      <td>c</td>\n",
       "      <td>k</td>\n",
       "    </tr>\n",
       "    <tr>\n",
       "      <th>4</th>\n",
       "      <td>abaff</td>\n",
       "      <td>a</td>\n",
       "      <td>b</td>\n",
       "      <td>a</td>\n",
       "      <td>f</td>\n",
       "      <td>f</td>\n",
       "    </tr>\n",
       "    <tr>\n",
       "      <th>5</th>\n",
       "      <td>abaft</td>\n",
       "      <td>a</td>\n",
       "      <td>b</td>\n",
       "      <td>a</td>\n",
       "      <td>f</td>\n",
       "      <td>t</td>\n",
       "    </tr>\n",
       "    <tr>\n",
       "      <th>...</th>\n",
       "      <td>...</td>\n",
       "      <td>...</td>\n",
       "      <td>...</td>\n",
       "      <td>...</td>\n",
       "      <td>...</td>\n",
       "      <td>...</td>\n",
       "    </tr>\n",
       "    <tr>\n",
       "      <th>10417</th>\n",
       "      <td>white</td>\n",
       "      <td>w</td>\n",
       "      <td>h</td>\n",
       "      <td>i</td>\n",
       "      <td>t</td>\n",
       "      <td>e</td>\n",
       "    </tr>\n",
       "    <tr>\n",
       "      <th>10418</th>\n",
       "      <td>woman</td>\n",
       "      <td>w</td>\n",
       "      <td>o</td>\n",
       "      <td>m</td>\n",
       "      <td>a</td>\n",
       "      <td>n</td>\n",
       "    </tr>\n",
       "    <tr>\n",
       "      <th>10419</th>\n",
       "      <td>wound</td>\n",
       "      <td>w</td>\n",
       "      <td>o</td>\n",
       "      <td>u</td>\n",
       "      <td>n</td>\n",
       "      <td>d</td>\n",
       "    </tr>\n",
       "    <tr>\n",
       "      <th>10420</th>\n",
       "      <td>wrong</td>\n",
       "      <td>w</td>\n",
       "      <td>r</td>\n",
       "      <td>o</td>\n",
       "      <td>n</td>\n",
       "      <td>g</td>\n",
       "    </tr>\n",
       "    <tr>\n",
       "      <th>10421</th>\n",
       "      <td>young</td>\n",
       "      <td>y</td>\n",
       "      <td>o</td>\n",
       "      <td>u</td>\n",
       "      <td>n</td>\n",
       "      <td>g</td>\n",
       "    </tr>\n",
       "  </tbody>\n",
       "</table>\n",
       "<p>8689 rows × 6 columns</p>\n",
       "</div>"
      ],
      "text/plain": [
       "        word Letter1 Letter2 Letter3 Letter4 Letter5\n",
       "0      aalii       a       a       l       i       i\n",
       "2      abaca       a       b       a       c       a\n",
       "3      aback       a       b       a       c       k\n",
       "4      abaff       a       b       a       f       f\n",
       "5      abaft       a       b       a       f       t\n",
       "...      ...     ...     ...     ...     ...     ...\n",
       "10417  white       w       h       i       t       e\n",
       "10418  woman       w       o       m       a       n\n",
       "10419  wound       w       o       u       n       d\n",
       "10420  wrong       w       r       o       n       g\n",
       "10421  young       y       o       u       n       g\n",
       "\n",
       "[8689 rows x 6 columns]"
      ]
     },
     "execution_count": 7,
     "metadata": {},
     "output_type": "execute_result"
    }
   ],
   "source": [
    "words_df = pd.DataFrame(five_letter_words)\n",
    "words_df.columns = ['word']\n",
    "for i in range (5):\n",
    "    words_df['Letter{}'.format(i+1)] = words_df['word'].apply(lambda x: x[i])\n",
    "print(len(words_df))\n",
    "words_df = words_df[words_df.Letter1 == words_df.Letter1.str.lower()]\n",
    "print(len(words_df))\n",
    "words_df"
   ]
  },
  {
   "cell_type": "code",
   "execution_count": 8,
   "metadata": {},
   "outputs": [],
   "source": [
    "def generate_word_query(L, isIn=True):\n",
    "    if isIn:\n",
    "        symbol = \"=\"\n",
    "        conjunction = \"or\"\n",
    "    else:\n",
    "        symbol = \"!\"\n",
    "        conjunction = \"and\"\n",
    "    query = \"and (Letter1 {}= '{}' \". format (symbol, L)\n",
    "    for i in range (2,6) :\n",
    "        query+= \"{} Letter{} {}='{}' \".format(conjunction, i, symbol, L)\n",
    "    query += \")\"\n",
    "    return query"
   ]
  },
  {
   "cell_type": "code",
   "execution_count": 9,
   "metadata": {},
   "outputs": [],
   "source": [
    "def clueUpdate(guessword, response):\n",
    "    query = \"\"\n",
    "    for idx, letter in enumerate(guessword):\n",
    "        letterJudgement = response[idx]\n",
    "        if letterJudgement == \"G\":\n",
    "            query += \"and (Letter{}= '{}')\".format(idx+1, letter)\n",
    "        elif letterJudgement == \"Y\":\n",
    "            query += \"and (Letter{} != '{}')\".format(idx+1, letter)\n",
    "            query += generate_word_query(letter)\n",
    "        elif letterJudgement == \"R\":\n",
    "            query += generate_word_query(letter, isIn=False)\n",
    "        else:\n",
    "            assert False, \"Please ensure response is a string of RGY: GYGRY\"\n",
    "    query = query.strip(\"and \")\n",
    "    temp = temp.query(query)"
   ]
  },
  {
   "cell_type": "code",
   "execution_count": 10,
   "metadata": {},
   "outputs": [],
   "source": [
    "def generate_clueDeduction_query (guessword, possibleWord):\n",
    "    query = \"\"\n",
    "    for idx, letter in enumerate(guessword):\n",
    "        #Does this letter match prospectword?\n",
    "        if letter == possibleWord[idx]:\n",
    "            #print(idx, Letter, possiblewordfidx)) #for debugging\n",
    "            query += \"and (Letter{} == '{}')\".format(idx+1, letter)\n",
    "        elif letter in possibleWord:\n",
    "            query += \"and (Letter{} != '{}')\".format(idx+1, letter)\n",
    "            query += generate_word_query(letter)\n",
    "        else:\n",
    "            query += generate_word_query(letter, isIn=False)\n",
    "    query = query.strip(\"and \")\n",
    "    return query"
   ]
  },
  {
   "cell_type": "code",
   "execution_count": null,
   "metadata": {},
   "outputs": [],
   "source": [
    "generate_clueDeduction_query('pulse', 'pulse')"
   ]
  },
  {
   "cell_type": "code",
   "execution_count": 12,
   "metadata": {},
   "outputs": [
    {
     "data": {
      "text/html": [
       "<div>\n",
       "<style scoped>\n",
       "    .dataframe tbody tr th:only-of-type {\n",
       "        vertical-align: middle;\n",
       "    }\n",
       "\n",
       "    .dataframe tbody tr th {\n",
       "        vertical-align: top;\n",
       "    }\n",
       "\n",
       "    .dataframe thead th {\n",
       "        text-align: right;\n",
       "    }\n",
       "</style>\n",
       "<table border=\"1\" class=\"dataframe\">\n",
       "  <thead>\n",
       "    <tr style=\"text-align: right;\">\n",
       "      <th></th>\n",
       "      <th>word</th>\n",
       "      <th>Letter1</th>\n",
       "      <th>Letter2</th>\n",
       "      <th>Letter3</th>\n",
       "      <th>Letter4</th>\n",
       "      <th>Letter5</th>\n",
       "    </tr>\n",
       "  </thead>\n",
       "  <tbody>\n",
       "    <tr>\n",
       "      <th>6779</th>\n",
       "      <td>pulse</td>\n",
       "      <td>p</td>\n",
       "      <td>u</td>\n",
       "      <td>l</td>\n",
       "      <td>s</td>\n",
       "      <td>e</td>\n",
       "    </tr>\n",
       "  </tbody>\n",
       "</table>\n",
       "</div>"
      ],
      "text/plain": [
       "       word Letter1 Letter2 Letter3 Letter4 Letter5\n",
       "6779  pulse       p       u       l       s       e"
      ]
     },
     "execution_count": 12,
     "metadata": {},
     "output_type": "execute_result"
    }
   ],
   "source": [
    "words_df.query(generate_clueDeduction_query('pulse', 'pulse'))"
   ]
  },
  {
   "cell_type": "code",
   "execution_count": 13,
   "metadata": {},
   "outputs": [],
   "source": [
    "def simulate(temp, guessWord):\n",
    "    #for each potential word, simulate the remaining words possible given the guess word\n",
    "    haystacks =[]\n",
    "    for possibleWord in temp.word:\n",
    "        #Return clue from word\n",
    "        #For Letter in, guessiond:\n",
    "        haystacks.append(len(temp.query(generate_clueDeduction_query(guessWord, possibleWord))))\n",
    "    return haystacks"
   ]
  },
  {
   "cell_type": "code",
   "execution_count": 14,
   "metadata": {},
   "outputs": [],
   "source": [
    "def return_best_words(guessList, toPrint=True):\n",
    "    guessList = list(guessList)\n",
    "    scores = []\n",
    "    words_and_scores = []\n",
    "    for word in guessList:\n",
    "        haystacks = simulate(temp, word)\n",
    "        score = np.mean(haystacks)\n",
    "        scores.append(score)\n",
    "        words_and_scores.append((word, score))\n",
    "        if toPrint:\n",
    "            print(word, score)\n",
    "    min_idx = np.argmin(scores)\n",
    "    best_score = scores[min_idx]\n",
    "    best_word = guessList[min_idx]\n",
    "    if toPrint:\n",
    "        print (\"In\\n\")\n",
    "        print (\"Best score: {} From word: {}\".format(best_score, best_word))\n",
    "    words_and_scores = sorted(words_and_scores, key=lambda x: x[1])\n",
    "    return words_and_scores"
   ]
  },
  {
   "cell_type": "markdown",
   "metadata": {},
   "source": [
    "## NY Times 2309 Word Update"
   ]
  },
  {
   "cell_type": "code",
   "execution_count": 15,
   "metadata": {},
   "outputs": [
    {
     "name": "stdout",
     "output_type": "stream",
     "text": [
      "2309 ['cigar', 'rebut', 'sissy', 'humph', 'awake'] ['judge', 'rower', 'artsy', 'rural', 'shave']\n"
     ]
    }
   ],
   "source": [
    "solution_words = []\n",
    "with open('solutions_nyt.txt') as f:\n",
    "    for line in f.readlines():\n",
    "        for w in line.split(\",\"):\n",
    "            solution_words.append(w.strip().strip('\"'))\n",
    "print(len(solution_words), solution_words[:5], solution_words[-5:])"
   ]
  },
  {
   "cell_type": "code",
   "execution_count": 16,
   "metadata": {},
   "outputs": [
    {
     "name": "stdout",
     "output_type": "stream",
     "text": [
      "2309\n"
     ]
    },
    {
     "data": {
      "text/html": [
       "<div>\n",
       "<style scoped>\n",
       "    .dataframe tbody tr th:only-of-type {\n",
       "        vertical-align: middle;\n",
       "    }\n",
       "\n",
       "    .dataframe tbody tr th {\n",
       "        vertical-align: top;\n",
       "    }\n",
       "\n",
       "    .dataframe thead th {\n",
       "        text-align: right;\n",
       "    }\n",
       "</style>\n",
       "<table border=\"1\" class=\"dataframe\">\n",
       "  <thead>\n",
       "    <tr style=\"text-align: right;\">\n",
       "      <th></th>\n",
       "      <th>word</th>\n",
       "      <th>Letter1</th>\n",
       "      <th>Letter2</th>\n",
       "      <th>Letter3</th>\n",
       "      <th>Letter4</th>\n",
       "      <th>Letter5</th>\n",
       "    </tr>\n",
       "  </thead>\n",
       "  <tbody>\n",
       "    <tr>\n",
       "      <th>0</th>\n",
       "      <td>cigar</td>\n",
       "      <td>c</td>\n",
       "      <td>i</td>\n",
       "      <td>g</td>\n",
       "      <td>a</td>\n",
       "      <td>r</td>\n",
       "    </tr>\n",
       "    <tr>\n",
       "      <th>1</th>\n",
       "      <td>rebut</td>\n",
       "      <td>r</td>\n",
       "      <td>e</td>\n",
       "      <td>b</td>\n",
       "      <td>u</td>\n",
       "      <td>t</td>\n",
       "    </tr>\n",
       "    <tr>\n",
       "      <th>2</th>\n",
       "      <td>sissy</td>\n",
       "      <td>s</td>\n",
       "      <td>i</td>\n",
       "      <td>s</td>\n",
       "      <td>s</td>\n",
       "      <td>y</td>\n",
       "    </tr>\n",
       "    <tr>\n",
       "      <th>3</th>\n",
       "      <td>humph</td>\n",
       "      <td>h</td>\n",
       "      <td>u</td>\n",
       "      <td>m</td>\n",
       "      <td>p</td>\n",
       "      <td>h</td>\n",
       "    </tr>\n",
       "    <tr>\n",
       "      <th>4</th>\n",
       "      <td>awake</td>\n",
       "      <td>a</td>\n",
       "      <td>w</td>\n",
       "      <td>a</td>\n",
       "      <td>k</td>\n",
       "      <td>e</td>\n",
       "    </tr>\n",
       "    <tr>\n",
       "      <th>...</th>\n",
       "      <td>...</td>\n",
       "      <td>...</td>\n",
       "      <td>...</td>\n",
       "      <td>...</td>\n",
       "      <td>...</td>\n",
       "      <td>...</td>\n",
       "    </tr>\n",
       "    <tr>\n",
       "      <th>2304</th>\n",
       "      <td>judge</td>\n",
       "      <td>j</td>\n",
       "      <td>u</td>\n",
       "      <td>d</td>\n",
       "      <td>g</td>\n",
       "      <td>e</td>\n",
       "    </tr>\n",
       "    <tr>\n",
       "      <th>2305</th>\n",
       "      <td>rower</td>\n",
       "      <td>r</td>\n",
       "      <td>o</td>\n",
       "      <td>w</td>\n",
       "      <td>e</td>\n",
       "      <td>r</td>\n",
       "    </tr>\n",
       "    <tr>\n",
       "      <th>2306</th>\n",
       "      <td>artsy</td>\n",
       "      <td>a</td>\n",
       "      <td>r</td>\n",
       "      <td>t</td>\n",
       "      <td>s</td>\n",
       "      <td>y</td>\n",
       "    </tr>\n",
       "    <tr>\n",
       "      <th>2307</th>\n",
       "      <td>rural</td>\n",
       "      <td>r</td>\n",
       "      <td>u</td>\n",
       "      <td>r</td>\n",
       "      <td>a</td>\n",
       "      <td>l</td>\n",
       "    </tr>\n",
       "    <tr>\n",
       "      <th>2308</th>\n",
       "      <td>shave</td>\n",
       "      <td>s</td>\n",
       "      <td>h</td>\n",
       "      <td>a</td>\n",
       "      <td>v</td>\n",
       "      <td>e</td>\n",
       "    </tr>\n",
       "  </tbody>\n",
       "</table>\n",
       "<p>2309 rows × 6 columns</p>\n",
       "</div>"
      ],
      "text/plain": [
       "       word Letter1 Letter2 Letter3 Letter4 Letter5\n",
       "0     cigar       c       i       g       a       r\n",
       "1     rebut       r       e       b       u       t\n",
       "2     sissy       s       i       s       s       y\n",
       "3     humph       h       u       m       p       h\n",
       "4     awake       a       w       a       k       e\n",
       "...     ...     ...     ...     ...     ...     ...\n",
       "2304  judge       j       u       d       g       e\n",
       "2305  rower       r       o       w       e       r\n",
       "2306  artsy       a       r       t       s       y\n",
       "2307  rural       r       u       r       a       l\n",
       "2308  shave       s       h       a       v       e\n",
       "\n",
       "[2309 rows x 6 columns]"
      ]
     },
     "execution_count": 16,
     "metadata": {},
     "output_type": "execute_result"
    }
   ],
   "source": [
    "words_df = pd.DataFrame(solution_words)\n",
    "words_df.columns = ['word']\n",
    "for i in range(5):\n",
    "    words_df['Letter{}'.format(i+1)] = words_df['word'].apply(lambda x: x[i])\n",
    "\n",
    "print(len(words_df))\n",
    "words_df"
   ]
  },
  {
   "cell_type": "code",
   "execution_count": null,
   "metadata": {},
   "outputs": [],
   "source": [
    "temp = words_df.copy()"
   ]
  },
  {
   "cell_type": "markdown",
   "metadata": {},
   "source": [
    "## Simulate Best Starter Words"
   ]
  },
  {
   "cell_type": "code",
   "execution_count": null,
   "metadata": {},
   "outputs": [],
   "source": [
    "words_and_scores = return_best_words(temp.word.sample(10))\n",
    "words_and_scores = sorted(words_and_scores, key=lambda x: x[1])\n",
    "print(len(words_and_scores), words_and_scores[:5], words_and_scores[-5:])"
   ]
  },
  {
   "cell_type": "code",
   "execution_count": null,
   "metadata": {},
   "outputs": [],
   "source": [
    "letter_frequency = Counter(letterfy(words_df.word))\n",
    "letter_frequency = pd.DataFrame.from_dict(letter_frequency, orient='index')\n",
    "letter_frequency.columns = ['count']\n",
    "letter_frequency = letter_frequency.sort_values(by='count', ascending=False)\n",
    "letter_frequency.head()"
   ]
  },
  {
   "cell_type": "code",
   "execution_count": null,
   "metadata": {},
   "outputs": [],
   "source": [
    "letter_frequency.plot(kind='barh', figsize=(10,10))"
   ]
  },
  {
   "cell_type": "code",
   "execution_count": null,
   "metadata": {},
   "outputs": [],
   "source": [
    "letter_frequency.index[:4]"
   ]
  },
  {
   "cell_type": "code",
   "execution_count": null,
   "metadata": {},
   "outputs": [],
   "source": [
    "sample_words = words_df.copy()\n",
    "for letter in letter_frequency.index[:3]:\n",
    "    sample_words = sample_words[sample_words.word.str.contains(letter)]\n",
    "    print(len(sample_words))"
   ]
  },
  {
   "cell_type": "code",
   "execution_count": null,
   "metadata": {},
   "outputs": [],
   "source": [
    "temp = words_df.copy().sample(30)\n",
    "\n",
    "words_and_scores = return_best_words(sample_words)\n",
    "words_and_scores = sorted(words_and_scores, key=lambda x: x[1])\n",
    "print(len(words_and_scores), words_and_scores[:5], words_and_scores[-5:])"
   ]
  },
  {
   "cell_type": "markdown",
   "metadata": {},
   "source": [
    "## Daily Runs"
   ]
  },
  {
   "cell_type": "code",
   "execution_count": null,
   "metadata": {},
   "outputs": [],
   "source": [
    "temp = words_df.copy()\n",
    "print(len(temp))"
   ]
  },
  {
   "cell_type": "code",
   "execution_count": null,
   "metadata": {},
   "outputs": [],
   "source": [
    "print(len(temp))\n",
    "clueUpdate('least','YYRYR')\n",
    "print(len(temp))\n",
    "temp"
   ]
  },
  {
   "cell_type": "code",
   "execution_count": null,
   "metadata": {},
   "outputs": [],
   "source": [
    "temp = temp[(temp.word.str.contains('l'))\n",
    "                & (temp.word.str.contains('e'))\n",
    "                & (~temp.word.str.contains ('a'))\n",
    "                & (temp.word.str.contains('s'))\n",
    "                & (~temp.word.str.contains( 't'))\n",
    "                & (temp['Letter1'] != 'l')\n",
    "                & (temp['Letter2'] != 'e')\n",
    "                & (temp['Letter3'] != 'a')\n",
    "                & (temp['Letter4'] != 's')\n",
    "                & (temp['Letter5'] != 't')]\n",
    "print(len(temp))\n",
    "temp.head()"
   ]
  },
  {
   "cell_type": "code",
   "execution_count": null,
   "metadata": {},
   "outputs": [],
   "source": [
    "bestGuesses = return_best_words(temp.word)\n",
    "bestGuesses[:5]"
   ]
  },
  {
   "cell_type": "code",
   "execution_count": null,
   "metadata": {},
   "outputs": [],
   "source": [
    "return_best_words(['spent'])"
   ]
  },
  {
   "cell_type": "code",
   "execution_count": null,
   "metadata": {},
   "outputs": [],
   "source": [
    "simulate(temp, \"pulse\")"
   ]
  },
  {
   "cell_type": "markdown",
   "metadata": {},
   "source": [
    "## DEV Timing"
   ]
  },
  {
   "cell_type": "code",
   "execution_count": null,
   "metadata": {},
   "outputs": [],
   "source": [
    "%%timeit\n",
    "temp = words_df.copy()\n",
    "# letters_retrieved = \n",
    "word_vector = temp.word.apply(lambda x: len(set(\"least\").intersection(x)))\n",
    "print(np.mean(word_vector))\n",
    "word_vector.hist()"
   ]
  },
  {
   "cell_type": "code",
   "execution_count": null,
   "metadata": {},
   "outputs": [],
   "source": [
    "# %%timeit\n",
    "\n",
    "temp = words_df.copy()\n",
    "# letters_retrieved = \n",
    "guess_word = \"least\"\n",
    "positions_vector = temp.word.apply(lambda x: sum([1 if x[i] == guess_word[i] else 0 for i in range(5) ]))\n",
    "print(np.mean(positions_vector))\n",
    "positions_vector.hist()"
   ]
  },
  {
   "cell_type": "code",
   "execution_count": null,
   "metadata": {},
   "outputs": [],
   "source": [
    "# %%timeit\n",
    "\n",
    "temp = words_df.copy()\n",
    "# letters_retrieved = \n",
    "guess_word = \"slate\"\n",
    "positions_vector = temp.word.apply(lambda x: sum([1 if x[i] == guess_word[i] else 0 for i in range(5) ]))\n",
    "print(np.mean(positions_vector))\n",
    "positions_vector.hist()"
   ]
  },
  {
   "cell_type": "code",
   "execution_count": null,
   "metadata": {},
   "outputs": [],
   "source": [
    "def score_first_guess(guess_word, toPrint=False):\n",
    "    temp = words_df.copy()\n",
    "    # letters_retrieved = \n",
    "    word_vector = temp.word.apply(lambda x: len(set(guess_word).intersection(x)))\n",
    "    positions_vector = temp.word.apply(lambda x: sum([1 if x[i] == guess_word[i] else 0 for i in range(5) ]))\n",
    "    if toPrint:\n",
    "        print(\"Average letters retrieved: \", np.mean(word_vector),\n",
    "              \"Average correct number of positions: \", np.mean(positions_vector)\n",
    "             )\n",
    "    return (np.mean(word_vector), np.mean(positions_vector))\n",
    "    \n",
    "#     print(np.mean(positions_vector))\n",
    "#     positions_vector.hist()"
   ]
  },
  {
   "cell_type": "code",
   "execution_count": null,
   "metadata": {},
   "outputs": [],
   "source": [
    "temp['FirstGuessScore'] = temp.word.apply(lambda x: sum(score_first_guess(x)))\n",
    "temp = temp.sort_values(by='FirstGuessScore', ascending = 'True')\n",
    "temp.head()"
   ]
  },
  {
   "cell_type": "code",
   "execution_count": null,
   "metadata": {},
   "outputs": [],
   "source": [
    "temp.tail()"
   ]
  },
  {
   "cell_type": "code",
   "execution_count": null,
   "metadata": {},
   "outputs": [],
   "source": [
    "temp['FirstGuessScores'] = temp.word.apply(score_first_guess)"
   ]
  },
  {
   "cell_type": "code",
   "execution_count": null,
   "metadata": {},
   "outputs": [],
   "source": [
    "temp.tail()"
   ]
  },
  {
   "cell_type": "code",
   "execution_count": null,
   "metadata": {},
   "outputs": [],
   "source": [
    "temp['LettersRetrieved'] = temp['FirstGuessScores'].apply(lambda x: x[0])\n",
    "temp = temp.sort_values(by='LettersRetrieved', ascending=False)\n",
    "temp.head()"
   ]
  },
  {
   "cell_type": "code",
   "execution_count": null,
   "metadata": {},
   "outputs": [],
   "source": [
    "temp.tail()"
   ]
  },
  {
   "cell_type": "code",
   "execution_count": null,
   "metadata": {},
   "outputs": [],
   "source": [
    "temp.LettersRetrieved.value_counts(normalize=True)"
   ]
  },
  {
   "cell_type": "code",
   "execution_count": null,
   "metadata": {},
   "outputs": [],
   "source": [
    "temp = words_df.copy()\n",
    "# letters_retrieved = \n",
    "word_vector = temp.word.apply(lambda x: len(set(\"arise\").intersection(x)))\n",
    "print(np.mean(word_vector))\n",
    "word_vector.hist()"
   ]
  },
  {
   "cell_type": "code",
   "execution_count": null,
   "metadata": {},
   "outputs": [],
   "source": [
    "temp = words_df.copy()\n",
    "# letters_retrieved = \n",
    "word_vector = temp.word.apply(lambda x: len(set(\"slate\").intersection(x)))\n",
    "print(np.mean(word_vector))\n",
    "word_vector.hist()"
   ]
  },
  {
   "cell_type": "code",
   "execution_count": null,
   "metadata": {},
   "outputs": [],
   "source": [
    "temp = words_df.copy()\n",
    "# letters_retrieved = \n",
    "word_vector = temp.word.apply(lambda x: len(set(\"slate\").intersection(x)))\n",
    "print(np.mean(word_vector))\n",
    "word_vector.hist()"
   ]
  }
 ],
 "metadata": {
  "kernelspec": {
   "display_name": "Python 3 (ipykernel)",
   "language": "python",
   "name": "python3"
  },
  "language_info": {
   "codemirror_mode": {
    "name": "ipython",
    "version": 3
   },
   "file_extension": ".py",
   "mimetype": "text/x-python",
   "name": "python",
   "nbconvert_exporter": "python",
   "pygments_lexer": "ipython3",
   "version": "3.7.4"
  }
 },
 "nbformat": 4,
 "nbformat_minor": 2
}
