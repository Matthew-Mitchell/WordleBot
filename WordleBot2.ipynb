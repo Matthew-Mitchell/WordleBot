{
 "cells": [
  {
   "cell_type": "code",
   "execution_count": 1,
   "metadata": {},
   "outputs": [],
   "source": [
    "from wordleBot import *"
   ]
  },
  {
   "cell_type": "markdown",
   "metadata": {},
   "source": [
    "## 11/11/2023"
   ]
  },
  {
   "cell_type": "code",
   "execution_count": 2,
   "metadata": {},
   "outputs": [],
   "source": [
    "bot = WordleBot()"
   ]
  },
  {
   "cell_type": "code",
   "execution_count": 3,
   "metadata": {},
   "outputs": [
    {
     "data": {
      "text/plain": [
       "2309"
      ]
     },
     "execution_count": 3,
     "metadata": {},
     "output_type": "execute_result"
    }
   ],
   "source": [
    "len(bot.words_df)"
   ]
  },
  {
   "cell_type": "markdown",
   "metadata": {},
   "source": [
    "### Enter Your Guess and The Game's Response\n",
    "\n",
    "To Enter The Game's Response, Enter a string:\n",
    "R - Red: letter is not in the puzzle's secret word\n",
    "Y - Yellow: letter is in the puzzle, but in a different position\n",
    "G = Green: correct letter in the correct placement\n",
    "\n",
    "For example, \n",
    "\n",
    "If you guessed the word `least` and got the folliwing response:  \n",
    "\n",
    "<img src=\"./wordle_feedback_example.jpeg\"></img>\n",
    "\n",
    "You'd enter `RRYRY` as the games response.\n",
    "\n",
    "The entire entry would be:\n",
    "\n",
    "`bot.clue_update('least', 'RRYRY')`"
   ]
  },
  {
   "cell_type": "code",
   "execution_count": 4,
   "metadata": {},
   "outputs": [
    {
     "name": "stdout",
     "output_type": "stream",
     "text": [
      "43 words still remaining.\n"
     ]
    }
   ],
   "source": [
    "bot.clue_update('least', 'RRYRY')\n",
    "# bot.return_best_words(toPrint=True)\n",
    "# print(bot.words_and_scores[:5])"
   ]
  },
  {
   "cell_type": "code",
   "execution_count": 7,
   "metadata": {},
   "outputs": [
    {
     "name": "stdout",
     "output_type": "stream",
     "text": [
      "1 of 43   [                   ] Time Remaining: 23.5\n",
      "Long compute time. Defaulting to heuristic sampling.\n",
      "10 of 10   [====================] Complete. Process took: 7.2\n",
      "Top guesses and average words remaning if guessed:\n",
      " [('batty', 4.02), ('party', 4.12), ('tardy', 4.77), ('warty', 4.77), ('tawny', 4.81)]\n"
     ]
    }
   ],
   "source": [
    "bot.return_best_words()\n",
    "print(\"\\nTop guesses and average words remaning if guessed:\\n\",\n",
    "      bot.words_and_scores[:5])"
   ]
  }
 ],
 "metadata": {
  "kernelspec": {
   "display_name": "Python 3 (ipykernel)",
   "language": "python",
   "name": "python3"
  },
  "language_info": {
   "codemirror_mode": {
    "name": "ipython",
    "version": 3
   },
   "file_extension": ".py",
   "mimetype": "text/x-python",
   "name": "python",
   "nbconvert_exporter": "python",
   "pygments_lexer": "ipython3",
   "version": "3.7.4"
  }
 },
 "nbformat": 4,
 "nbformat_minor": 2
}
